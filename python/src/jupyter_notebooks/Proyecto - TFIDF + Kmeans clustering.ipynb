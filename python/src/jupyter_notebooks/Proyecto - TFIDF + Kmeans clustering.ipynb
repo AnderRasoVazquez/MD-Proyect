{
 "cells": [
  {
   "cell_type": "markdown",
   "metadata": {
    "toc": true
   },
   "source": [
    "<h1>Tabla de contenidos<span class=\"tocSkip\"></span></h1>\n",
    "<div class=\"toc\"><ul class=\"toc-item\"><li><span><a href=\"#TFidf-+-Clustering-en-Python\" data-toc-modified-id=\"TFidf-+-Clustering-en-Python-1\">TFidf + Clustering en Python</a></span></li></ul></div>"
   ]
  },
  {
   "cell_type": "markdown",
   "metadata": {},
   "source": [
    "## TFidf + Clustering en Python"
   ]
  },
  {
   "cell_type": "code",
   "execution_count": 12,
   "metadata": {},
   "outputs": [
    {
     "name": "stdout",
     "output_type": "stream",
     "text": [
      "\n",
      "Tiempo en vectorizar:\n",
      "CPU times: user 511 ms, sys: 31.4 ms, total: 543 ms\n",
      "Wall time: 542 ms\n",
      "\n",
      "Tiempo en clustering:\n",
      "CPU times: user 2min 39s, sys: 2min 40s, total: 5min 20s\n",
      "Wall time: 1min 35s\n",
      "\n",
      "Tiempo en guardar:\n",
      "CPU times: user 102 ms, sys: 186 ms, total: 288 ms\n",
      "Wall time: 41.3 ms\n"
     ]
    }
   ],
   "source": [
    "from sklearn.feature_extraction.text import TfidfVectorizer\n",
    "from sklearn.cluster import KMeans\n",
    "import pandas as pd\n",
    "\n",
    "input_file = 'files/verbal_autopsies_clean.csv'\n",
    "\n",
    "df = pd.read_csv(input_file, header = 0)  # creamos el dataframe general\n",
    "\n",
    "print(\"\\nTiempo en vectorizar:\")\n",
    "tfidf_vectorizer = TfidfVectorizer(use_idf=True)\n",
    "%time tfidf_matrix = tfidf_vectorizer.fit_transform(df[\"open_response\"].values.astype('U'))\n",
    "\n",
    "num_clusters = 48\n",
    "\n",
    "km = KMeans(n_clusters=num_clusters)\n",
    "\n",
    "print(\"\\nTiempo en clustering:\")\n",
    "%time km.fit(tfidf_matrix)\n",
    "\n",
    "df[\"cluster\"] = km.labels_\n",
    "print(\"\\nTiempo en guardar:\")\n",
    "%time df[[\"gs_text34\",\"cluster\"]].sort_values(by=['cluster']).to_csv(\"result.csv\")"
   ]
  }
 ],
 "metadata": {
  "kernelspec": {
   "display_name": "Python 3",
   "language": "python",
   "name": "python3"
  },
  "language_info": {
   "codemirror_mode": {
    "name": "ipython",
    "version": 3
   },
   "file_extension": ".py",
   "mimetype": "text/x-python",
   "name": "python",
   "nbconvert_exporter": "python",
   "pygments_lexer": "ipython3",
   "version": "3.6.6"
  },
  "toc": {
   "base_numbering": 1,
   "nav_menu": {},
   "number_sections": false,
   "sideBar": true,
   "skip_h1_title": false,
   "title_cell": "Tabla de contenidos",
   "title_sidebar": "Contents",
   "toc_cell": true,
   "toc_position": {},
   "toc_section_display": true,
   "toc_window_display": true
  }
 },
 "nbformat": 4,
 "nbformat_minor": 2
}
