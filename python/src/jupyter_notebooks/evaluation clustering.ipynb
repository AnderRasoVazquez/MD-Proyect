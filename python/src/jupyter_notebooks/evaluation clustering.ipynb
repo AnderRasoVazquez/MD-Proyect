{
 "cells": [
  {
   "cell_type": "markdown",
   "metadata": {
    "toc": true
   },
   "source": [
    "<h1>Tabla de contenidos<span class=\"tocSkip\"></span></h1>\n",
    "<div class=\"toc\"><ul class=\"toc-item\"></ul></div>"
   ]
  },
  {
   "cell_type": "code",
   "execution_count": 12,
   "metadata": {},
   "outputs": [],
   "source": [
    "import math\n",
    "\n",
    "class IndexEval(object):\n",
    "    def __init__(self, n11, n01, n10, n00):\n",
    "        self.n11 = n11\n",
    "        self.n10 = n10\n",
    "        self.n01 = n01\n",
    "        self.n00 = n00\n",
    "    \n",
    "    def jaccard(self):\n",
    "        return self.n11 / (self.n11 + self.n10 + self.n01)\n",
    "    \n",
    "    def randindex(self):\n",
    "        return (self.n11 + self.n00) / (self.n11 + self.n01 + self.n10 + self.n00)\n",
    "    \n",
    "    def fm(self):\n",
    "        return math.sqrt( (self.n11 / (self.n11 + self.n01)) * (self.n11 / (self.n11 + self.n10)) )\n",
    "    \n",
    "    def eval_all(self):\n",
    "        return (self.jaccard(), self.randindex(), self.fm())"
   ]
  },
  {
   "cell_type": "code",
   "execution_count": null,
   "metadata": {},
   "outputs": [
    {
     "data": {
      "text/plain": [
       "(0.2, 0.4666666666666667, 0.3333333333333333)"
      ]
     },
     "execution_count": 13,
     "metadata": {},
     "output_type": "execute_result"
    }
   ],
   "source": [
    "i = IndexEval(2, 4, 4, 5)\n",
    "i.eval_all()"
   ]
  }
 ],
 "metadata": {
  "kernelspec": {
   "display_name": "Python 3",
   "language": "python",
   "name": "python3"
  },
  "language_info": {
   "codemirror_mode": {
    "name": "ipython",
    "version": 3
   },
   "file_extension": ".py",
   "mimetype": "text/x-python",
   "name": "python",
   "nbconvert_exporter": "python",
   "pygments_lexer": "ipython3",
   "version": "3.6.6"
  },
  "toc": {
   "base_numbering": 1.0,
   "nav_menu": {},
   "number_sections": false,
   "sideBar": true,
   "skip_h1_title": false,
   "title_cell": "Tabla de contenidos",
   "title_sidebar": "Contents",
   "toc_cell": true,
   "toc_position": {},
   "toc_section_display": true,
   "toc_window_display": true
  }
 },
 "nbformat": 4,
 "nbformat_minor": 2
}
