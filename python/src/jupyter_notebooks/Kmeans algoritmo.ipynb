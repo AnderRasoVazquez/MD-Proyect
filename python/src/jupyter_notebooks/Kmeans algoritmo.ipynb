{
 "cells": [
  {
   "cell_type": "markdown",
   "metadata": {
    "toc": true
   },
   "source": [
    "<h1>Tabla de contenidos<span class=\"tocSkip\"></span></h1>\n",
    "<div class=\"toc\"><ul class=\"toc-item\"><li><span><a href=\"#Crear-el-algoritmo-K-means\" data-toc-modified-id=\"Crear-el-algoritmo-K-means-1\">Crear el algoritmo K means</a></span></li><li><span><a href=\"#Calcular-los-centroides\" data-toc-modified-id=\"Calcular-los-centroides-2\">Calcular los centroides</a></span></li><li><span><a href=\"#Agrupar-nuevos-datos\" data-toc-modified-id=\"Agrupar-nuevos-datos-3\">Agrupar nuevos datos</a></span></li><li><span><a href=\"#Usando-la-libreria-KMeans-de-sklearn\" data-toc-modified-id=\"Usando-la-libreria-KMeans-de-sklearn-4\">Usando la libreria KMeans de sklearn</a></span><ul class=\"toc-item\"><li><span><a href=\"#Calcular-cuantos-clusters-hay\" data-toc-modified-id=\"Calcular-cuantos-clusters-hay-4.1\">Calcular cuantos clusters hay</a></span></li></ul></li></ul></div>"
   ]
  },
  {
   "cell_type": "markdown",
   "metadata": {},
   "source": [
    "# Crear el algoritmo K means"
   ]
  },
  {
   "cell_type": "markdown",
   "metadata": {},
   "source": [
    "- Choose value for K\n",
    "- Randomly select K featuresets to start as your centroids\n",
    "- Calculate distance of all other featuresets to centroids\n",
    "- Classify other featuresets as same as closest centroid\n",
    "- Take mean of each class (mean of all featuresets by class), making that mean the new centroid\n",
    "- Repeat steps 3-5 until optimized (centroids no longer moving)"
   ]
  },
  {
   "cell_type": "code",
   "execution_count": 5,
   "metadata": {},
   "outputs": [
    {
     "data": {
      "image/png": "[encoded data removed]",
      "text/plain": [
       "<matplotlib.figure.Figure at 0x7f10163fc828>"
      ]
     },
     "metadata": {},
     "output_type": "display_data"
    }
   ],
   "source": [
    "import matplotlib.pyplot as plt\n",
    "from matplotlib import style\n",
    "style.use('ggplot')\n",
    "import numpy as np\n",
    "\n",
    "# este tipo de array es como una matriz\n",
    "X = np.array([[1, 2],\n",
    "              [1.5, 1.8],\n",
    "              [5, 8],\n",
    "              [8, 8],\n",
    "              [1, 0.6],\n",
    "              [9,11]])\n",
    "\n",
    "colors = 10*[\"g\",\"r\",\"c\",\"b\",\"k\"]\n",
    "\n",
    "plt.scatter(X[:,0], X[:,1], s=150)\n",
    "plt.show()"
   ]
  },
  {
   "cell_type": "code",
   "execution_count": 2,
   "metadata": {},
   "outputs": [],
   "source": [
    "class K_Means:\n",
    "    def __init__(self, k=2, tol=0.001, max_iter=300):\n",
    "        self.k = k  # numero de clusters\n",
    "        self.tol = tol  # tolerancia, si el centroide no se mueve mas\n",
    "                        # de esta distancia diremos que esta optimizado\n",
    "        self.max_iter = max_iter  # cuantas iteraciones se haran como maximo\n",
    "    \n",
    "    def fit(self,data):\n",
    "\n",
    "        self.centroids = {}\n",
    "\n",
    "        # elegimos los 2 primeros valores como centroides\n",
    "        # TODO podriamos elegirlos al azar mejor, como hemos visto en clase\n",
    "        for i in range(self.k):\n",
    "            self.centroids[i] = data[i]\n",
    "        \n",
    "        # empezamos a iterar hasta llegar al numero maximo de iteraciones\n",
    "        # o hasta que este optimizado\n",
    "        for i in range(self.max_iter):\n",
    "            self.classifications = {}  # el resultado, es un diccionario que tendra como claves\n",
    "                                       # los nombres de los grupos, cada grupo tendra una lista de instancias\n",
    "\n",
    "            # ponemos como claves los grupos\n",
    "            for i in range(self.k):\n",
    "                self.classifications[i] = []  # cada grupo le inicializamos una lista vacia\n",
    "            \n",
    "            # iteramos por cada instancia calculando su distancia respecto a los centroides y la clasificamos\n",
    "            for featureset in data:\n",
    "                # calculamos las normas (distancia) ej. de ||AB|| sqrt((b1-a1)^2+(b2-a2)^2)\n",
    "                distances = [np.linalg.norm(featureset - self.centroids[centroid]) for centroid in self.centroids]\n",
    "                classification = distances.index(min(distances))  # el indice de la menor es el nombre del cluster\n",
    "                self.classifications[classification].append(featureset)\n",
    "\n",
    "            prev_centroids = dict(self.centroids)\n",
    "\n",
    "            # de las instancias clasificadas en clusters hacemos su media para definir nuevos centroides\n",
    "            for classification in self.classifications:\n",
    "                # Como funciona np.average:\n",
    "                # >>> x = [[1,7],[2,18],[9,46]]\n",
    "                # >>> x\n",
    "                # [[1, 7],\n",
    "                #  [2, 18],\n",
    "                #  [9, 46]]\n",
    "                # >>> np.average(x)  # la media de todos los numeros\n",
    "                # 13.833333333333334\n",
    "                # >>> np.average(x, axis=0) # la media de las columnas\n",
    "                # array([  4.        ,  23.66666667])\n",
    "                # >>> np.average(x, axis=1)  # la media de las filas\n",
    "                # array([  4. ,  10. ,  27.5])\n",
    "                self.centroids[classification] = np.average(self.classifications[classification], axis=0)\n",
    "            \n",
    "            # asumimos que esta optimizado\n",
    "            optimized = True\n",
    "\n",
    "            # comparamos los centroides antiguos con los nuevos para saber si esta optimizado\n",
    "            for c in self.centroids:\n",
    "                original_centroid = prev_centroids[c]\n",
    "                current_centroid = self.centroids[c]\n",
    "                # TODO averiguar por que calcula la tolerancia de esta manera\n",
    "                distance_change = np.sum((current_centroid - original_centroid) / original_centroid * 100.0)\n",
    "                if distance_change > self.tol:\n",
    "                    #print(\"Distance_change:\", distance_change)\n",
    "                    optimized = False\n",
    "\n",
    "            # si sigue optimizado terminamos\n",
    "            if optimized:\n",
    "                break\n",
    "    \n",
    "        else: # for-else: si el loop no ha tenido ningun break se ejecuta\n",
    "            print(\"Max iterations reached.\")\n",
    "                \n",
    "                \n",
    "    def predict(self,data):\n",
    "        distances = [np.linalg.norm(data - self.centroids[centroid]) for centroid in self.centroids]\n",
    "        classification = distances.index(min(distances))\n",
    "        return classification"
   ]
  },
  {
   "cell_type": "markdown",
   "metadata": {},
   "source": [
    "# Calcular los centroides"
   ]
  },
  {
   "cell_type": "code",
   "execution_count": 3,
   "metadata": {},
   "outputs": [
    {
     "data": {
      "image/png": "[encoded data removed]",
      "text/plain": [
       "<matplotlib.figure.Figure at 0x7f1016390d30>"
      ]
     },
     "metadata": {
      "needs_background": "light"
     },
     "output_type": "display_data"
    }
   ],
   "source": [
    "clf = K_Means()\n",
    "clf.fit(X)\n",
    "\n",
    "for centroid in clf.centroids:\n",
    "    plt.scatter(clf.centroids[centroid][0], clf.centroids[centroid][1],\n",
    "                marker=\"o\", color=\"k\", s=150, linewidths=5)\n",
    "\n",
    "for classification in clf.classifications:\n",
    "    color = colors[classification]\n",
    "    for featureset in clf.classifications[classification]:\n",
    "        plt.scatter(featureset[0], featureset[1], marker=\"x\", color=color, s=150, linewidths=5)\n",
    "        \n",
    "plt.show()"
   ]
  },
  {
   "cell_type": "markdown",
   "metadata": {},
   "source": [
    "# Agrupar nuevos datos"
   ]
  },
  {
   "cell_type": "code",
   "execution_count": 4,
   "metadata": {},
   "outputs": [
    {
     "data": {
      "image/png": "[encoded data removed]",
      "text/plain": [
       "<matplotlib.figure.Figure at 0x7f1016390dd8>"
      ]
     },
     "metadata": {
      "needs_background": "light"
     },
     "output_type": "display_data"
    }
   ],
   "source": [
    "clf = K_Means()\n",
    "clf.fit(X)\n",
    "\n",
    "for centroid in clf.centroids:\n",
    "    plt.scatter(clf.centroids[centroid][0], clf.centroids[centroid][1],\n",
    "                marker=\"o\", color=\"k\", s=150, linewidths=5)\n",
    "\n",
    "for classification in clf.classifications:\n",
    "    color = colors[classification]\n",
    "    for featureset in clf.classifications[classification]:\n",
    "        plt.scatter(featureset[0], featureset[1], marker=\"x\", color=color, s=150, linewidths=5)\n",
    "        \n",
    "\n",
    "unknowns = np.array([[1,3],\n",
    "                     [8,9],\n",
    "                     [0,3],\n",
    "                     [5,4],\n",
    "                     [6,4],])\n",
    "\n",
    "for unknown in unknowns:\n",
    "    classification = clf.predict(unknown)\n",
    "    plt.scatter(unknown[0], unknown[1], marker=\"*\", color=colors[classification], s=150, linewidths=5)\n",
    "\n",
    "\n",
    "plt.show()"
   ]
  },
  {
   "cell_type": "markdown",
   "metadata": {},
   "source": [
    "# Usando la libreria KMeans de sklearn"
   ]
  },
  {
   "cell_type": "markdown",
   "metadata": {},
   "source": [
    "## Calcular cuantos clusters hay"
   ]
  },
  {
   "cell_type": "code",
   "execution_count": 9,
   "metadata": {},
   "outputs": [
    {
     "data": {
      "image/png": "[encoded data removed]",
      "text/plain": [
       "<matplotlib.figure.Figure at 0x7f10068ac550>"
      ]
     },
     "metadata": {},
     "output_type": "display_data"
    }
   ],
   "source": [
    "from sklearn.cluster import KMeans\n",
    "\n",
    "Nc = range(1, 5)\n",
    "kmeans = [KMeans(n_clusters=i) for i in Nc]\n",
    "kmeans\n",
    "score = [kmeans[i].fit(X).score(X) for i in range(len(kmeans))]\n",
    "score\n",
    "plt.plot(Nc,score)\n",
    "plt.xlabel('Number of Clusters')\n",
    "plt.ylabel('Score')\n",
    "plt.title('Elbow Curve')\n",
    "plt.show()"
   ]
  },
  {
   "cell_type": "markdown",
   "metadata": {},
   "source": [
    "El codo está claramente en el 2, por lo tanto podemos decir que hay 2 clusters."
   ]
  },
  {
   "cell_type": "code",
   "execution_count": 10,
   "metadata": {},
   "outputs": [
    {
     "name": "stdout",
     "output_type": "stream",
     "text": [
      "[[ 7.33333333  9.        ]\n",
      " [ 1.16666667  1.46666667]]\n"
     ]
    }
   ],
   "source": [
    "kmeans = KMeans(n_clusters=2).fit(X)\n",
    "centroids = kmeans.cluster_centers_\n",
    "print(centroids)"
   ]
  },
  {
   "cell_type": "code",
   "execution_count": 11,
   "metadata": {},
   "outputs": [
    {
     "data": {
      "text/plain": [
       "{0: array([ 1.16666667,  1.46666667]), 1: array([ 7.33333333,  9.        ])}"
      ]
     },
     "execution_count": 11,
     "metadata": {},
     "output_type": "execute_result"
    }
   ],
   "source": [
    "# si los comparamos con los centroides que hemos sacado nosotros antes veremos que son los mismos\n",
    "clf.centroids"
   ]
  }
 ],
 "metadata": {
  "kernelspec": {
   "display_name": "Python 3",
   "language": "python",
   "name": "python3"
  },
  "language_info": {
   "codemirror_mode": {
    "name": "ipython",
    "version": 3
   },
   "file_extension": ".py",
   "mimetype": "text/x-python",
   "name": "python",
   "nbconvert_exporter": "python",
   "pygments_lexer": "ipython3",
   "version": "3.6.6"
  },
  "toc": {
   "base_numbering": 1,
   "nav_menu": {},
   "number_sections": false,
   "sideBar": true,
   "skip_h1_title": false,
   "title_cell": "Tabla de contenidos",
   "title_sidebar": "Contents",
   "toc_cell": true,
   "toc_position": {},
   "toc_section_display": true,
   "toc_window_display": true
  }
 },
 "nbformat": 4,
 "nbformat_minor": 2
}
